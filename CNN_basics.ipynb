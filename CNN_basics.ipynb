{
  "nbformat": 4,
  "nbformat_minor": 0,
  "metadata": {
    "colab": {
      "name": "CNN basics.ipynb",
      "provenance": [],
      "private_outputs": true,
      "toc_visible": true,
      "authorship_tag": "ABX9TyOLZMmI24GLm7Jzt0+UlGvG",
      "include_colab_link": true
    },
    "kernelspec": {
      "name": "python3",
      "display_name": "Python 3"
    },
    "accelerator": "TPU"
  },
  "cells": [
    {
      "cell_type": "markdown",
      "metadata": {
        "id": "view-in-github",
        "colab_type": "text"
      },
      "source": [
        "<a href=\"https://colab.research.google.com/github/zohyan/Deep-Learning-with-python/blob/master/CNN_basics.ipynb\" target=\"_parent\"><img src=\"https://colab.research.google.com/assets/colab-badge.svg\" alt=\"Open In Colab\"/></a>"
      ]
    },
    {
      "cell_type": "markdown",
      "metadata": {
        "id": "KFXzGMLCyq0P",
        "colab_type": "text"
      },
      "source": [
        "## Basic Convolutional Neural Network"
      ]
    },
    {
      "cell_type": "markdown",
      "metadata": {
        "id": "CjKpfWo5y6uF",
        "colab_type": "text"
      },
      "source": [
        "### **1. Imports**"
      ]
    },
    {
      "cell_type": "code",
      "metadata": {
        "id": "vcF-dAOwxStI",
        "colab_type": "code",
        "colab": {}
      },
      "source": [
        "import time\n",
        "import numpy as np\n",
        "import torch\n",
        "import torch.nn.functional as F\n",
        "from torchvision import datasets\n",
        "from torchvision import transforms\n",
        "from torch.utils.data import DataLoader\n",
        "\n",
        "\n",
        "if torch.cuda.is_available():\n",
        "    torch.backends.cudnn.deterministic = True"
      ],
      "execution_count": 0,
      "outputs": []
    },
    {
      "cell_type": "markdown",
      "metadata": {
        "id": "AKWp57FvzUiM",
        "colab_type": "text"
      },
      "source": [
        "### **2. Settings and Dataset**"
      ]
    },
    {
      "cell_type": "code",
      "metadata": {
        "id": "EvKk8fxWzUOQ",
        "colab_type": "code",
        "colab": {}
      },
      "source": [
        "##########################\n",
        "### SETTINGS\n",
        "##########################\n",
        "\n",
        "# Device\n",
        "device = torch.device(\"cuda:3\" if torch.cuda.is_available() else \"cpu\")\n",
        "\n",
        "# Hyperparameters\n",
        "random_seed = 1\n",
        "learning_rate = 0.05\n",
        "num_epochs = 10\n",
        "batch_size = 128\n",
        "\n",
        "# Architecture\n",
        "num_classes = 10\n",
        "\n",
        "##########################\n",
        "### MNIST DATASET\n",
        "##########################\n",
        "\n",
        "# Note transforms.ToTensor() scales input images\n",
        "# to 0-1 range\n",
        "train_dataset = datasets.MNIST(root='data', train=True, transform=transforms.ToTensor(), download=True)\n",
        "\n",
        "test_dataset = datasets.MNIST(root='data', train=False, transform=transforms.ToTensor())\n",
        "\n",
        "train_loader = DataLoader(dataset=train_dataset, batch_size=batch_size, shuffle=True)\n",
        "\n",
        "test_loader = DataLoader(dataset=test_dataset, batch_size=batch_size, shuffle=False)\n",
        "\n",
        "# Checking the dataset\n",
        "for images, labels in train_loader:  \n",
        "    print('Image batch dimensions:', images.shape)\n",
        "    print('Image label dimensions:', labels.shape)\n",
        "    break"
      ],
      "execution_count": 0,
      "outputs": []
    },
    {
      "cell_type": "markdown",
      "metadata": {
        "id": "tsrYgkjJ0frO",
        "colab_type": "text"
      },
      "source": [
        "### **3. Model**"
      ]
    },
    {
      "cell_type": "code",
      "metadata": {
        "id": "mozXKSegzPPW",
        "colab_type": "code",
        "colab": {}
      },
      "source": [
        "##########################\n",
        "### MODEL\n",
        "##########################\n",
        "\n",
        "\n",
        "class ConvNet(torch.nn.Module):\n",
        "\n",
        "    def __init__(self, num_classes):\n",
        "        super(ConvNet, self).__init__()\n",
        "        \n",
        "        # calculate same padding:\n",
        "        # (w - k + 2*p)/s + 1 = o\n",
        "        # => p = (s(o-1) - w + k)/2\n",
        "        \n",
        "        # 28x28x1 => 28x28x8\n",
        "        self.conv_1 = torch.nn.Conv2d(in_channels=1,\n",
        "                                      out_channels=8,\n",
        "                                      kernel_size=(3, 3),\n",
        "                                      stride=(1, 1),\n",
        "                                      padding=1) # (1(28-1) - 28 + 3) / 2 = 1\n",
        "        # 28x28x8 => 14x14x8\n",
        "        self.pool_1 = torch.nn.MaxPool2d(kernel_size=(2, 2),\n",
        "                                         stride=(2, 2),\n",
        "                                         padding=0) # (2(14-1) - 28 + 2) = 0                                       \n",
        "        # 14x14x8 => 14x14x16\n",
        "        self.conv_2 = torch.nn.Conv2d(in_channels=8,\n",
        "                                      out_channels=16,\n",
        "                                      kernel_size=(3, 3),\n",
        "                                      stride=(1, 1),\n",
        "                                      padding=1) # (1(14-1) - 14 + 3) / 2 = 1                 \n",
        "        # 14x14x16 => 7x7x16                             \n",
        "        self.pool_2 = torch.nn.MaxPool2d(kernel_size=(2, 2),\n",
        "                                         stride=(2, 2),\n",
        "                                         padding=0) # (2(7-1) - 14 + 2) = 0\n",
        "\n",
        "        self.linear_1 = torch.nn.Linear(7*7*16, num_classes)\n",
        "\n",
        "        # optionally initialize weights from Gaussian;\n",
        "        # Guassian weight init is not recommended and only for demonstration purposes\n",
        "        for m in self.modules():\n",
        "            if isinstance(m, torch.nn.Conv2d) or isinstance(m, torch.nn.Linear):\n",
        "                m.weight.data.normal_(0.0, 0.01)\n",
        "                m.bias.data.zero_()\n",
        "                if m.bias is not None:\n",
        "                    m.bias.detach().zero_()\n",
        "        \n",
        "        \n",
        "    def forward(self, x):\n",
        "        out = self.conv_1(x)\n",
        "        out = F.relu(out)\n",
        "        out = self.pool_1(out)\n",
        "\n",
        "        out = self.conv_2(out)\n",
        "        out = F.relu(out)\n",
        "        out = self.pool_2(out)\n",
        "        \n",
        "        logits = self.linear_1(out.view(-1, 7*7*16))\n",
        "        probas = F.softmax(logits, dim=1)\n",
        "        return logits, probas\n",
        "\n",
        "    \n",
        "torch.manual_seed(random_seed)\n",
        "model = ConvNet(num_classes=num_classes)\n",
        "\n",
        "model = model.to(device)\n",
        "\n",
        "optimizer = torch.optim.SGD(model.parameters(), lr=learning_rate)"
      ],
      "execution_count": 0,
      "outputs": []
    },
    {
      "cell_type": "markdown",
      "metadata": {
        "id": "sHkWcTJL07e1",
        "colab_type": "text"
      },
      "source": [
        "### **4. Training**"
      ]
    },
    {
      "cell_type": "code",
      "metadata": {
        "id": "WUvw-U7Z057w",
        "colab_type": "code",
        "colab": {}
      },
      "source": [
        "def compute_accuracy(model, data_loader):\n",
        "    \n",
        "    correct_pred, num_examples = 0, 0\n",
        "    \n",
        "    for features, targets in data_loader:\n",
        "        features = features.to(device)\n",
        "        targets = targets.to(device)\n",
        "        logits, probas = model(features)\n",
        "        _, predicted_labels = torch.max(probas, 1)\n",
        "        num_examples += targets.size(0)\n",
        "        correct_pred += (predicted_labels == targets).sum()\n",
        "    \n",
        "    return correct_pred.float()/num_examples * 100\n",
        "    \n",
        "\n",
        "start_time = time.time()    \n",
        "\n",
        "for epoch in range(num_epochs):\n",
        "    model = model.train()\n",
        "    \n",
        "    for batch_idx, (features, targets) in enumerate(train_loader):\n",
        "        \n",
        "        features = features.to(device)\n",
        "        targets = targets.to(device)\n",
        "\n",
        "        ### FORWARD AND BACK PROP\n",
        "        logits, probas = model(features)\n",
        "        cost = F.cross_entropy(logits, targets)\n",
        "        optimizer.zero_grad()\n",
        "        cost.backward()\n",
        "        \n",
        "        ### UPDATE MODEL PARAMETERS\n",
        "        optimizer.step()\n",
        "        \n",
        "        ### LOGGING\n",
        "        if not batch_idx % 50:\n",
        "            print ('Epoch: %03d/%03d | Batch %03d/%03d | Cost: %.4f' % (epoch+1, num_epochs, batch_idx, len(train_loader), cost))\n",
        "    \n",
        "    model = model.eval()\n",
        "    \n",
        "    print('Epoch: %03d/%03d training accuracy: %.2f%%' % (\n",
        "          epoch+1, num_epochs, \n",
        "          compute_accuracy(model, train_loader))\n",
        "    )\n",
        "\n",
        "    print('Time elapsed: %.2f min' % ((time.time() - start_time)/60))\n",
        "    \n",
        "print('Total Training Time: %.2f min' % ((time.time() - start_time)/60))"
      ],
      "execution_count": 0,
      "outputs": []
    },
    {
      "cell_type": "markdown",
      "metadata": {
        "id": "Bn44uis11F9R",
        "colab_type": "text"
      },
      "source": [
        "### **5. Evaluation**"
      ]
    },
    {
      "cell_type": "code",
      "metadata": {
        "id": "Fg6-wQL51CNc",
        "colab_type": "code",
        "colab": {}
      },
      "source": [
        "with torch.set_grad_enabled(False): # save memory during inference\n",
        "    print('Test accuracy: %.2f%%' % (compute_accuracy(model, test_loader)))"
      ],
      "execution_count": 0,
      "outputs": []
    }
  ]
}