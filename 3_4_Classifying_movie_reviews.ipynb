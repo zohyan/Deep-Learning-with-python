{
 "cells": [
  {
   "cell_type": "markdown",
   "metadata": {},
   "source": [
    "# 3.4 Classifying movie reviews: a binary classification example"
   ]
  },
  {
   "cell_type": "markdown",
   "metadata": {},
   "source": [
    "Two-class classification, or binary classification, may be the most widely applied kind\n",
    "of machine-learning problem. In this example, you’ll learn to classify movie reviews as\n",
    "positive or negative, based on the text content of the reviews."
   ]
  },
  {
   "cell_type": "markdown",
   "metadata": {},
   "source": [
    "## 3.4.1 The IMDB dataset"
   ]
  },
  {
   "cell_type": "markdown",
   "metadata": {},
   "source": [
    "You’ll work with the IMDB dataset: a set of 50,000 highly polarized reviews from the\n",
    "Internet Movie Database. They’re split into 25,000 reviews for training and 25,000\n",
    "reviews for testing, each set consisting of 50% negative and 50% positive reviews.\n",
    "\n",
    "Why use separate training and test sets? Because you should never test a machinelearning\n",
    "model on the same data that you used to train it! Just because a model performs\n",
    "well on its training data doesn’t mean it will perform well on data it has never\n",
    "seen; and what you care about is your model’s performance on new data (because you\n",
    "already know the labels of your training data—obviously you don’t need your model\n",
    "to predict those). For instance, it’s possible that your model could end up merely memorizing\n",
    "a mapping between your training samples and their targets, which would be\n",
    "useless for the task of predicting targets for data the model has never seen before.\n",
    "We’ll go over this point in much more detail in the next chapter.\n",
    "\n",
    "Just like the MNIST dataset, the IMDB dataset comes packaged with Keras. It has\n",
    "already been preprocessed: the reviews (sequences of words) have been turned into\n",
    "sequences of integers, where each integer stands for a specific word in a dictionary.\n",
    "The following code will load the dataset (when you run it the first time, about\n",
    "80 MB of data will be downloaded to your machine)."
   ]
  },
  {
   "cell_type": "code",
   "execution_count": 1,
   "metadata": {},
   "outputs": [
    {
     "name": "stderr",
     "output_type": "stream",
     "text": [
      "Using TensorFlow backend.\n"
     ]
    }
   ],
   "source": [
    "# Loading the IMDB dataset\n",
    "from keras.datasets import imdb\n",
    "(train_data, train_labels), (test_data, test_labels) = imdb.load_data(num_words=10000)"
   ]
  },
  {
   "cell_type": "markdown",
   "metadata": {},
   "source": [
    "The argument num_words=10000 means you’ll only keep the top 10,000 most frequently\n",
    "occurring words in the training data. Rare words will be discarded. This allows\n",
    "you to work with vector data of manageable size.\n",
    "\n",
    "The variables train_data and test_data are lists of reviews; each review is a list of\n",
    "word indices (encoding a sequence of words). train_labels and test_labels are\n",
    "lists of 0s and 1s, where 0 stands for negative and 1 stands for positive:"
   ]
  },
  {
   "cell_type": "code",
   "execution_count": 2,
   "metadata": {},
   "outputs": [],
   "source": [
    "# reviews = avis => sequence de mots\n",
    "# train_data[0] instance of reviews"
   ]
  },
  {
   "cell_type": "code",
   "execution_count": 3,
   "metadata": {},
   "outputs": [
    {
     "data": {
      "text/plain": [
       "1"
      ]
     },
     "execution_count": 3,
     "metadata": {},
     "output_type": "execute_result"
    }
   ],
   "source": [
    "train_labels[0]"
   ]
  },
  {
   "cell_type": "markdown",
   "metadata": {},
   "source": [
    "Because you’re restricting yourself to the top 10,000 most frequent words, no word\n",
    "index will exceed 10,000:"
   ]
  },
  {
   "cell_type": "code",
   "execution_count": 4,
   "metadata": {},
   "outputs": [
    {
     "data": {
      "text/plain": [
       "9999"
      ]
     },
     "execution_count": 4,
     "metadata": {},
     "output_type": "execute_result"
    }
   ],
   "source": [
    "max([max(sequence) for sequence in train_data])"
   ]
  },
  {
   "cell_type": "markdown",
   "metadata": {},
   "source": [
    "For kicks, here’s how you can quickly decode one of these reviews back to English\n",
    "words:"
   ]
  },
  {
   "cell_type": "code",
   "execution_count": 5,
   "metadata": {},
   "outputs": [],
   "source": [
    "# word_index is a dictionary mapping words to an integer index.\n",
    "word_index = imdb.get_word_index()"
   ]
  },
  {
   "cell_type": "code",
   "execution_count": 6,
   "metadata": {},
   "outputs": [],
   "source": [
    "# Reverses it, mapping integer indices to words\n",
    "reverse_word_index = dict([(value, key) for (key, value) in word_index.items()])"
   ]
  },
  {
   "cell_type": "code",
   "execution_count": 7,
   "metadata": {},
   "outputs": [],
   "source": [
    "# Decodes the review. Note that the indices\n",
    "# are offset by 3 because 0, 1, and 2 are\n",
    "# reserved indices for “padding,” “start of\n",
    "# sequence,” and “unknown.”\n",
    "decoded_review = ' '.join([reverse_word_index.get(i - 3, '?') for i in train_data[0]])"
   ]
  },
  {
   "cell_type": "markdown",
   "metadata": {},
   "source": [
    "## 3.4.2 Preparing the data"
   ]
  },
  {
   "cell_type": "markdown",
   "metadata": {},
   "source": [
    "You can’t feed lists of integers into a neural network. You have to turn your lists into\n",
    "tensors. There are two ways to do that:\n",
    "\n",
    "* Pad your lists so that they all have the __same length__, turn them into an integer tensor of shape __(samples, word_indices)__, and then use as the first layer in your network a layer capable of handling such integer tensors (the __Embedding layer__, which we’ll cover in detail later in the book).\n",
    "* __One-hot encode__ your lists to turn them into vectors of 0s and 1s. This would mean, for instance, turning the sequence [3, 5] into a 10,000-dimensional vector that would be all 0s except for indices 3 and 5, which would be 1s. Then you could use as the first layer in your network a Dense layer, capable of handling floating-point vector data."
   ]
  },
  {
   "cell_type": "markdown",
   "metadata": {},
   "source": [
    "Let’s go with the latter solution to vectorize the data, which you’ll do manually for\n",
    "maximum clarity."
   ]
  },
  {
   "cell_type": "code",
   "execution_count": 8,
   "metadata": {},
   "outputs": [],
   "source": [
    "# Encoding the integer sequences into a binary matrix\n",
    "import numpy as np\n",
    "def vectorize_sequences(sequences, dimension=10000):\n",
    "    # Creates an all-zero matrix of shape (len(sequences),dimension)\n",
    "    results = np.zeros((len(sequences), dimension))\n",
    "    \n",
    "    for i, sequence in enumerate(sequences):\n",
    "        # Sets specific indices of results[i] to 1s\n",
    "        #print('i ', i, ' sequence ', sequence)\n",
    "        results[i, sequence] = 1.\n",
    "    return results"
   ]
  },
  {
   "cell_type": "code",
   "execution_count": 9,
   "metadata": {},
   "outputs": [
    {
     "data": {
      "text/plain": [
       "(25000,)"
      ]
     },
     "execution_count": 9,
     "metadata": {},
     "output_type": "execute_result"
    }
   ],
   "source": [
    "train_data.shape"
   ]
  },
  {
   "cell_type": "code",
   "execution_count": 10,
   "metadata": {},
   "outputs": [],
   "source": [
    "x_train = vectorize_sequences(train_data)"
   ]
  },
  {
   "cell_type": "code",
   "execution_count": 11,
   "metadata": {},
   "outputs": [
    {
     "data": {
      "text/plain": [
       "False"
      ]
     },
     "execution_count": 11,
     "metadata": {},
     "output_type": "execute_result"
    }
   ],
   "source": [
    "np.array_equal(x_train[1], x_train[2])"
   ]
  },
  {
   "cell_type": "code",
   "execution_count": 12,
   "metadata": {},
   "outputs": [],
   "source": [
    "x_test = vectorize_sequences(test_data)"
   ]
  },
  {
   "cell_type": "markdown",
   "metadata": {},
   "source": [
    "You should also vectorize your labels, which is straightforward:"
   ]
  },
  {
   "cell_type": "code",
   "execution_count": 13,
   "metadata": {},
   "outputs": [],
   "source": [
    "y_train = np.asarray(train_labels).astype('float32')\n",
    "y_test = np.asarray(test_labels).astype('float32')"
   ]
  },
  {
   "cell_type": "markdown",
   "metadata": {},
   "source": [
    "Now the data is ready to be fed into a neural network."
   ]
  },
  {
   "cell_type": "markdown",
   "metadata": {},
   "source": [
    "## 3.4.3 Building your network"
   ]
  },
  {
   "cell_type": "markdown",
   "metadata": {},
   "source": [
    "The input data is vectors, and the labels are scalars (1s and 0s): this is the easiest setup\n",
    "you’ll ever encounter. A type of network that performs well on such a problem is\n",
    "a simple stack of fully connected ( Dense ) layers with relu activations: Dense(16,\n",
    "activation='relu').\n",
    "\n",
    "The argument being passed to each Dense layer (16) is the number of hidden\n",
    "units of the layer. A hidden unit is a dimension in the representation space of the layer.\n",
    "You may remember from chapter 2 that each such Dense layer with a relu activation\n",
    "implements the following chain of tensor operations:"
   ]
  },
  {
   "cell_type": "code",
   "execution_count": 14,
   "metadata": {},
   "outputs": [],
   "source": [
    "# output = relu(dot(W, input) + b)"
   ]
  },
  {
   "cell_type": "markdown",
   "metadata": {},
   "source": [
    "Having 16 hidden units means the weight matrix W will have shape (input_dimension, 16).\n",
    "\n",
    "There are two key architecture decisions to be made about such a stack of Dense layers:\n",
    "* How many layers to use\n",
    "* How many hidden units to choose for each layer\n",
    "\n",
    "In chapter 4, you’ll learn formal principles to guide you in making these choices. For\n",
    "the time being, you’ll have to trust me with the following architecture choice:\n",
    "* Two intermediate layers with 16 hidden units each\n",
    "* A third layer that will output the scalar prediction regarding the sentiment of the current review\n",
    "\n",
    "And here’s the Keras implementation, similar to the MNIST example you saw previously."
   ]
  },
  {
   "cell_type": "code",
   "execution_count": 15,
   "metadata": {},
   "outputs": [
    {
     "name": "stdout",
     "output_type": "stream",
     "text": [
      "WARNING:tensorflow:From /home/yanz/anaconda3/lib/python3.7/site-packages/tensorflow/python/framework/op_def_library.py:263: colocate_with (from tensorflow.python.framework.ops) is deprecated and will be removed in a future version.\n",
      "Instructions for updating:\n",
      "Colocations handled automatically by placer.\n"
     ]
    }
   ],
   "source": [
    "# The model definition\n",
    "from keras import models\n",
    "from keras import layers\n",
    "model = models.Sequential()\n",
    "model.add(layers.Dense(16, activation='relu', input_shape=(10000,)))\n",
    "model.add(layers.Dense(16, activation='relu'))\n",
    "model.add(layers.Dense(1, activation='sigmoid'))"
   ]
  },
  {
   "cell_type": "markdown",
   "metadata": {},
   "source": [
    "Finally, you need to choose a loss function and an optimizer. Because you’re facing a\n",
    "binary classification problem and the output of your network is a probability (you end\n",
    "your network with a single-unit layer with a sigmoid activation), it’s best to use the\n",
    "__binary_crossentropy__ loss. It isn’t the only viable choice: you could use, for instance,\n",
    "__mean_squared_error__. But crossentropy is usually the best choice when you’re dealing\n",
    "with models that output probabilities. __Crossentropy__ is a quantity from the field of Information Theory that measures the distance between probability distributions or, in this\n",
    "case, between the ground-truth distribution and your predictions.\n",
    " Here’s the step where you configure the model with the __rmsprop__ optimizer and\n",
    "the __binary_crossentropy__ loss function. Note that you’ll also monitor accuracy\n",
    "during training."
   ]
  },
  {
   "cell_type": "code",
   "execution_count": 16,
   "metadata": {},
   "outputs": [],
   "source": [
    "# Compiling the model\n",
    "model.compile(optimizer='rmsprop', loss='binary_crossentropy', metrics=['accuracy'])"
   ]
  },
  {
   "cell_type": "markdown",
   "metadata": {},
   "source": [
    "You’re passing your optimizer, loss function, and metrics as strings, which is possible\n",
    "because rmsprop, binary_crossentropy, and accuracy are packaged as part of Keras.\n",
    "Sometimes you may want to configure the parameters of your optimizer or pass a custom loss function or metric function. The former can be done by passing an optimizer\n",
    "class instance as the optimizer argument, as shown in listing below; the latter can be\n",
    "done by passing function objects as the loss and/or metrics arguments, as shown in\n",
    "listing below."
   ]
  },
  {
   "cell_type": "code",
   "execution_count": 17,
   "metadata": {},
   "outputs": [],
   "source": [
    "# Configuring the optimizer\n",
    "# from keras import optimizers\n",
    "# model.compile(optimizer=optimizers.RMSprop(lr=0.001),loss='binary_crossentropy',metrics=['accuracy'])"
   ]
  },
  {
   "cell_type": "code",
   "execution_count": 18,
   "metadata": {},
   "outputs": [],
   "source": [
    "# Using custom losses and metrics\n",
    "# from keras import losses, metrics\n",
    "# model.compile(optimizer=optimizers.RMSprop(lr=0.001),\n",
    "# loss=losses.binary_crossentropy,\n",
    "# metrics=[metrics.binary_accuracy])"
   ]
  },
  {
   "cell_type": "markdown",
   "metadata": {},
   "source": [
    "## 3.4.4 Validating your approach"
   ]
  },
  {
   "cell_type": "markdown",
   "metadata": {},
   "source": [
    "In order to monitor during training the accuracy of the model on data it has never\n",
    "seen before, you’ll create a validation set by setting apart 10,000 samples from the\n",
    "original training data."
   ]
  },
  {
   "cell_type": "code",
   "execution_count": 19,
   "metadata": {},
   "outputs": [],
   "source": [
    "# Setting aside a validation set\n",
    "x_val = x_train[:10000]\n",
    "partial_x_train = x_train[10000:]\n",
    "y_val = y_train[:10000]\n",
    "partial_y_train = y_train[10000:]"
   ]
  },
  {
   "cell_type": "markdown",
   "metadata": {},
   "source": [
    "You’ll now train the model for 20 epochs (20 iterations over all samples in the\n",
    "x_train and y_train tensors), in mini-batches of 512 samples. At the same time,\n",
    "you’ll monitor loss and accuracy on the 10,000 samples that you set apart. You do so by\n",
    "passing the validation data as the validation_data argument."
   ]
  },
  {
   "cell_type": "code",
   "execution_count": 20,
   "metadata": {},
   "outputs": [
    {
     "name": "stdout",
     "output_type": "stream",
     "text": [
      "WARNING:tensorflow:From /home/yanz/anaconda3/lib/python3.7/site-packages/tensorflow/python/ops/math_ops.py:3066: to_int32 (from tensorflow.python.ops.math_ops) is deprecated and will be removed in a future version.\n",
      "Instructions for updating:\n",
      "Use tf.cast instead.\n",
      "Train on 15000 samples, validate on 10000 samples\n",
      "Epoch 1/20\n",
      "15000/15000 [==============================] - 2s 147us/step - loss: 0.5084 - acc: 0.7815 - val_loss: 0.3795 - val_acc: 0.8690\n",
      "Epoch 2/20\n",
      "15000/15000 [==============================] - 2s 119us/step - loss: 0.3005 - acc: 0.9047 - val_loss: 0.3004 - val_acc: 0.8902\n",
      "Epoch 3/20\n",
      "15000/15000 [==============================] - 2s 101us/step - loss: 0.2179 - acc: 0.9287 - val_loss: 0.3086 - val_acc: 0.8712\n",
      "Epoch 4/20\n",
      "15000/15000 [==============================] - 1s 81us/step - loss: 0.1750 - acc: 0.9436 - val_loss: 0.2840 - val_acc: 0.8833\n",
      "Epoch 5/20\n",
      "15000/15000 [==============================] - 1s 77us/step - loss: 0.1427 - acc: 0.9544 - val_loss: 0.2841 - val_acc: 0.8869\n",
      "Epoch 6/20\n",
      "15000/15000 [==============================] - 1s 79us/step - loss: 0.1150 - acc: 0.9652 - val_loss: 0.3149 - val_acc: 0.8776\n",
      "Epoch 7/20\n",
      "15000/15000 [==============================] - 1s 78us/step - loss: 0.0979 - acc: 0.9706 - val_loss: 0.3128 - val_acc: 0.8844\n",
      "Epoch 8/20\n",
      "15000/15000 [==============================] - 1s 77us/step - loss: 0.0807 - acc: 0.9764 - val_loss: 0.3858 - val_acc: 0.8650\n",
      "Epoch 9/20\n",
      "15000/15000 [==============================] - 1s 78us/step - loss: 0.0661 - acc: 0.9821 - val_loss: 0.3635 - val_acc: 0.8783\n",
      "Epoch 10/20\n",
      "15000/15000 [==============================] - 1s 78us/step - loss: 0.0559 - acc: 0.9850 - val_loss: 0.3858 - val_acc: 0.8794\n",
      "Epoch 11/20\n",
      "15000/15000 [==============================] - 1s 77us/step - loss: 0.0427 - acc: 0.9902 - val_loss: 0.4148 - val_acc: 0.8784\n",
      "Epoch 12/20\n",
      "15000/15000 [==============================] - 1s 82us/step - loss: 0.0374 - acc: 0.9923 - val_loss: 0.4641 - val_acc: 0.8674\n",
      "Epoch 13/20\n",
      "15000/15000 [==============================] - 1s 80us/step - loss: 0.0299 - acc: 0.9931 - val_loss: 0.4721 - val_acc: 0.8731\n",
      "Epoch 14/20\n",
      "15000/15000 [==============================] - 1s 77us/step - loss: 0.0241 - acc: 0.9949 - val_loss: 0.5057 - val_acc: 0.8723\n",
      "Epoch 15/20\n",
      "15000/15000 [==============================] - 1s 80us/step - loss: 0.0169 - acc: 0.9983 - val_loss: 0.5680 - val_acc: 0.8626\n",
      "Epoch 16/20\n",
      "15000/15000 [==============================] - 1s 77us/step - loss: 0.0183 - acc: 0.9963 - val_loss: 0.5814 - val_acc: 0.8697\n",
      "Epoch 17/20\n",
      "15000/15000 [==============================] - 1s 79us/step - loss: 0.0090 - acc: 0.9995 - val_loss: 0.6060 - val_acc: 0.8683\n",
      "Epoch 18/20\n",
      "15000/15000 [==============================] - 1s 82us/step - loss: 0.0103 - acc: 0.9984 - val_loss: 0.6420 - val_acc: 0.8670\n",
      "Epoch 19/20\n",
      "15000/15000 [==============================] - 1s 77us/step - loss: 0.0088 - acc: 0.9982 - val_loss: 0.6874 - val_acc: 0.8642\n",
      "Epoch 20/20\n",
      "15000/15000 [==============================] - 1s 77us/step - loss: 0.0038 - acc: 0.9999 - val_loss: 0.6994 - val_acc: 0.8652\n"
     ]
    }
   ],
   "source": [
    "# Training your model\n",
    "model.compile(optimizer='rmsprop', loss='binary_crossentropy', metrics=['acc'])\n",
    "history = model.fit(partial_x_train, partial_y_train, epochs=20, batch_size=512, validation_data=(x_val, y_val))"
   ]
  },
  {
   "cell_type": "markdown",
   "metadata": {},
   "source": [
    "Note that the call to __model.fit()__ returns a __History__ object. This object has a member history, which is a __dictionary__ containing data about everything that happened\n",
    "during training. Let’s look at it:"
   ]
  },
  {
   "cell_type": "code",
   "execution_count": 21,
   "metadata": {},
   "outputs": [
    {
     "data": {
      "text/plain": [
       "dict_keys(['val_loss', 'val_acc', 'loss', 'acc'])"
      ]
     },
     "execution_count": 21,
     "metadata": {},
     "output_type": "execute_result"
    }
   ],
   "source": [
    "history_dict = history.history\n",
    "history_dict.keys()"
   ]
  },
  {
   "cell_type": "markdown",
   "metadata": {},
   "source": [
    "The dictionary contains four entries: one per metric that was being monitored during\n",
    "training and during validation. In the following two listing, let’s use Matplotlib to plot\n",
    "the training and validation loss side by side, as well as the training and\n",
    "validation accuracy. Note that your own results may vary slightly due to\n",
    "a different random initialization of your network."
   ]
  },
  {
   "cell_type": "code",
   "execution_count": 22,
   "metadata": {},
   "outputs": [
    {
     "data": {
      "text/plain": [
       "<Figure size 640x480 with 1 Axes>"
      ]
     },
     "metadata": {},
     "output_type": "display_data"
    }
   ],
   "source": [
    "# Plotting the training and validation loss\n",
    "import matplotlib.pyplot as plt\n",
    "history_dict = history.history\n",
    "\n",
    "acc = history_dict['acc']\n",
    "loss_values = history_dict['loss']\n",
    "val_loss_values = history_dict['val_loss']\n",
    "\n",
    "epochs = range(1, len(acc) + 1)\n",
    "\n",
    "# “bo” is for “blue dot.”\n",
    "plt.plot(epochs, loss_values, 'bo', label='Training loss')\n",
    "# “b” is for “solid blue line.”\n",
    "plt.plot(epochs, val_loss_values, 'b', label='Validation loss')\n",
    "plt.title('Training and validation loss')\n",
    "plt.xlabel('Epochs')\n",
    "plt.ylabel('Loss')\n",
    "plt.legend()\n",
    "plt.show()"
   ]
  },
  {
   "cell_type": "code",
   "execution_count": 23,
   "metadata": {},
   "outputs": [
    {
     "data": {
      "image/png": "[encoded data removed]",
      "text/plain": [
       "<Figure size 432x288 with 1 Axes>"
      ]
     },
     "metadata": {
      "needs_background": "light"
     },
     "output_type": "display_data"
    }
   ],
   "source": [
    "# Plotting the training and validation accuracy\n",
    "# Clears the figure\n",
    "plt.clf()\n",
    "acc_values = history_dict['acc']\n",
    "val_acc_values = history_dict['val_acc']\n",
    "plt.plot(epochs, acc, 'bo', label='Training acc')\n",
    "plt.plot(epochs, val_acc_values, 'b', label='Validation acc')\n",
    "plt.title('Training and validation accuracy')\n",
    "plt.xlabel('Epochs')\n",
    "plt.ylabel('Acc')\n",
    "plt.legend()\n",
    "plt.show()"
   ]
  },
  {
   "cell_type": "markdown",
   "metadata": {},
   "source": [
    "As you can see, the training loss decreases with every epoch, and the training accuracy\n",
    "increases with every epoch. That’s what you would expect when running gradientdescent optimization—the quantity you’re trying to minimize should be less with\n",
    "every iteration. But that isn’t the case for the validation loss and accuracy: they seem to\n",
    "peak at the fourth epoch. This is an example of what we warned against earlier: a\n",
    "model that performs better on the training data isn’t necessarily a model that will do\n",
    "better on data it has never seen before. In precise terms, what you’re seeing is __overfitting__: after the second epoch, you’re overoptimizing on the training data, and you end\n",
    "up learning representations that are specific to the training data and don’t generalize\n",
    "to data outside of the training set.\n",
    " \n",
    "In this case, to prevent overfitting, you could stop training after three epochs. In\n",
    "general, you can use a range of techniques to mitigate overfitting, which we’ll cover in\n",
    "chapter 4.\n",
    " \n",
    "Let’s train a new network from scratch for four epochs and then evaluate it on the\n",
    "test data."
   ]
  },
  {
   "cell_type": "code",
   "execution_count": 24,
   "metadata": {},
   "outputs": [
    {
     "name": "stdout",
     "output_type": "stream",
     "text": [
      "Epoch 1/4\n",
      "25000/25000 [==============================] - 2s 64us/step - loss: 0.4742 - acc: 0.8221\n",
      "Epoch 2/4\n",
      "25000/25000 [==============================] - 1s 54us/step - loss: 0.2635 - acc: 0.9101\n",
      "Epoch 3/4\n",
      "25000/25000 [==============================] - 1s 55us/step - loss: 0.1986 - acc: 0.9309\n",
      "Epoch 4/4\n",
      "25000/25000 [==============================] - 1s 54us/step - loss: 0.1679 - acc: 0.9404\n",
      "25000/25000 [==============================] - 2s 67us/step\n"
     ]
    }
   ],
   "source": [
    "# Retraining a model from scratch\n",
    "model = models.Sequential()\n",
    "\n",
    "model.add(layers.Dense(16, activation='relu', input_shape=(10000,)))\n",
    "model.add(layers.Dense(16, activation='relu'))\n",
    "model.add(layers.Dense(1, activation='sigmoid'))\n",
    "\n",
    "model.compile(optimizer='rmsprop',loss='binary_crossentropy',metrics=['accuracy'])\n",
    "\n",
    "model.fit(x_train, y_train, epochs=4, batch_size=512)\n",
    "\n",
    "results = model.evaluate(x_test, y_test)"
   ]
  },
  {
   "cell_type": "code",
   "execution_count": 25,
   "metadata": {},
   "outputs": [
    {
     "data": {
      "text/plain": [
       "[0.3229699110984802, 0.87288]"
      ]
     },
     "execution_count": 25,
     "metadata": {},
     "output_type": "execute_result"
    }
   ],
   "source": [
    "results"
   ]
  },
  {
   "cell_type": "markdown",
   "metadata": {},
   "source": [
    "This fairly naive approach achieves an accuracy of 88%. With state-of-the-art\n",
    "approaches, you should be able to get close to 95%."
   ]
  },
  {
   "cell_type": "markdown",
   "metadata": {},
   "source": [
    "## 3.4.5 Using a trained network to generate predictions on new data"
   ]
  },
  {
   "cell_type": "markdown",
   "metadata": {},
   "source": [
    "After having trained a network, you’ll want to use it in a practical setting. You can generate the likelihood of reviews being positive by using the __predict__ method:"
   ]
  },
  {
   "cell_type": "code",
   "execution_count": 26,
   "metadata": {},
   "outputs": [
    {
     "data": {
      "text/plain": [
       "array([[0.13631961],\n",
       "       [0.99970657],\n",
       "       [0.28467682],\n",
       "       ...,\n",
       "       [0.07529172],\n",
       "       [0.0455606 ],\n",
       "       [0.49371928]], dtype=float32)"
      ]
     },
     "execution_count": 26,
     "metadata": {},
     "output_type": "execute_result"
    }
   ],
   "source": [
    "model.predict(x_test)"
   ]
  },
  {
   "cell_type": "markdown",
   "metadata": {},
   "source": [
    "As you can see, the network is confident for some samples (0.99 or more, or 0.01 or less) but less confident for others (0.6, 0.4)."
   ]
  },
  {
   "cell_type": "markdown",
   "metadata": {},
   "source": [
    "## 3.4.6 Further experiments"
   ]
  },
  {
   "cell_type": "markdown",
   "metadata": {},
   "source": [
    "The following experiments will help convince you that the architecture choices you’ve\n",
    "made are all fairly reasonable, although there’s still room for improvement:\n",
    "* You used two hidden layers. Try using one or three hidden layers, and see how doing so affects validation and test accuracy.\n",
    "* Try using layers with more hidden units or fewer hidden units: 32 units, 64 units, and so on.\n",
    "* Try using the __mse__ loss function instead of __binary_crossentropy__.\n",
    "* Try using the __tanh__ activation (an activation that was popular in the early days of neural networks) instead of __relu__."
   ]
  },
  {
   "cell_type": "markdown",
   "metadata": {},
   "source": [
    "## 3.4.7 Wrapping up"
   ]
  },
  {
   "cell_type": "markdown",
   "metadata": {},
   "source": [
    "Here’s what you should take away from this example:\n",
    "* You usually need to do quite a bit of preprocessing on your raw data in order to be able to feed it—as tensors—into a neural network. Sequences of words can be encoded as binary vectors, but there are other encoding options, too.\n",
    "* Stacks of __Dense__ layers with __relu__ activations can solve a wide range of problems (including sentiment classification), and you’ll likely use them frequently\n",
    "* In a binary classification problem (two output classes), your network should end with a __Dense__ layer with one unit and a __sigmoid__ activation: the output of your network should be a scalar between 0 and 1, encoding a probability.\n",
    "* With such a scalar sigmoid output on a binary classification problem, the loss function you should use is __binary_crossentropy__.\n",
    "* The __rmsprop__ optimizer is generally a good enough choice, whatever your problem. That’s one less thing for you to worry about.\n",
    "* As they get better on their training data, neural networks eventually start overfitting and end up obtaining increasingly worse results on data they’ve never seen before. Be sure to always monitor performance on data that is outside of the training set. "
   ]
  }
 ],
 "metadata": {
  "kernelspec": {
   "display_name": "Python 3",
   "language": "python",
   "name": "python3"
  },
  "language_info": {
   "codemirror_mode": {
    "name": "ipython",
    "version": 3
   },
   "file_extension": ".py",
   "mimetype": "text/x-python",
   "name": "python",
   "nbconvert_exporter": "python",
   "pygments_lexer": "ipython3",
   "version": "3.7.3"
  }
 },
 "nbformat": 4,
 "nbformat_minor": 2
}
